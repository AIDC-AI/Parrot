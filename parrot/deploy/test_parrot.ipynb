{
 "cells": [
  {
   "cell_type": "code",
   "execution_count": 1,
   "metadata": {},
   "outputs": [],
   "source": [
    "from dataclasses import dataclass, field\n",
    "\n",
    "import torch\n",
    "\n",
    "from parrot.model.parrot_arch import ParrotMetaForCausalLM\n",
    "from parrot.utils.constants import DEFAULT_IMAGE_TOKEN\n",
    "from parrot.utils.utils import disable_torch_init\n",
    "from parrot.utils.mm_utils import process_images\n",
    "\n",
    "from PIL import Image\n",
    "\n",
    "class BaseRunner:\n",
    "    def __init__(self, model_path, model_name, mm_vision_tower):\n",
    "        disable_torch_init()\n",
    "        self.model, self.tokenizer, self.conversation_formatter = ParrotMetaForCausalLM.build(model_name, model_path,\n",
    "                                                                              mm_vision_tower=mm_vision_tower,\n",
    "                                                                              low_cpu_mem_usage=True,)\n",
    "                                                                            #   device_map='auto')\n",
    "        self.model = self.model.cuda()\n",
    "        self.image_processor = self.model.get_vision_tower().image_processor\n",
    "\n",
    "    def truncate_text(self, text, max_length=128):\n",
    "        tokens = self.tokenizer.encode(text)\n",
    "        if len(tokens) <= max_length:\n",
    "            return text\n",
    "        return self.tokenizer.decode(tokens[:max_length])\n",
    "\n",
    "    def run(self, **kwargs):\n",
    "        raise NotImplementedError\n",
    "\n",
    "\n",
    "class TestRunner(BaseRunner):\n",
    "    def _get_input(self, image, text):\n",
    "        query = DEFAULT_IMAGE_TOKEN + '\\n' + text\n",
    "        prompt, input_ids = self.conversation_formatter.format_query(query)\n",
    "\n",
    "        image = Image.open(image).convert('RGB')\n",
    "        image_tensor = process_images([image], self.image_processor, self.model.config)\n",
    "\n",
    "        return prompt, input_ids, image_tensor\n",
    "\n",
    "    def run(self, image: Image.Image, text, **gen_args):\n",
    "        prompt, input_ids, image_tensor = self._get_input(\n",
    "            image=image,\n",
    "            text=text\n",
    "        )\n",
    "\n",
    "        input_ids = input_ids.to(device='cuda').unsqueeze(0)\n",
    "        image_tensor = image_tensor.to(dtype=self.model.dtype, device='cuda')\n",
    "\n",
    "        with torch.inference_mode():\n",
    "            output_ids = self.model.generate(\n",
    "                input_ids,\n",
    "                images=image_tensor,\n",
    "                repetition_penalty=None,\n",
    "                max_new_tokens=1024,\n",
    "                eos_token_id=self.tokenizer.eos_token_id,\n",
    "                **gen_args)\n",
    "\n",
    "        input_token_len = input_ids.shape[1]\n",
    "        output_token_len = output_ids.shape[1]\n",
    "        n_diff_input_output = (input_ids != output_ids[:, :input_token_len]).sum().item()\n",
    "        if n_diff_input_output > 0:\n",
    "            print(f'[Warning] {n_diff_input_output} output_ids are not the same as the input_ids')\n",
    "        output = self.tokenizer.batch_decode(output_ids[:, input_token_len:], skip_special_tokens=True)[0]\n",
    "        output = output.strip()\n",
    "\n",
    "        response = dict(\n",
    "            content=output,\n",
    "            prompt_tokens=input_token_len,\n",
    "            total_tokens=output_token_len\n",
    "        )\n",
    "\n",
    "        print(\"Prompt:\", prompt)\n",
    "        print(\"Output:\", output)\n",
    "\n",
    "        return response\n"
   ]
  },
  {
   "cell_type": "code",
   "execution_count": null,
   "metadata": {},
   "outputs": [],
   "source": [
    "\n",
    "model_path = 'AIDC-AI/Parrot-7B' \n",
    "model_name = 'parrot_qwen2'\n",
    "mm_vision_tower = 'openai/clip-vit-large-patch14-336'\n",
    "\n",
    "# initialize runner\n",
    "runner = TestRunner(model_path, model_name, mm_vision_tower)"
   ]
  },
  {
   "cell_type": "code",
   "execution_count": null,
   "metadata": {},
   "outputs": [],
   "source": [
    "# data\n",
    "\n",
    "image = '' # TODO: put your image path here\n",
    "\n",
    "texts = [\"Please write a description for the image.\"]\n",
    "# run\n",
    "for text in texts:\n",
    "    response = runner.run(image, text)\n",
    "    print(response)\n",
    "    print('\\n')"
   ]
  }
 ],
 "metadata": {
  "kernelspec": {
   "display_name": "base",
   "language": "python",
   "name": "python3"
  },
  "language_info": {
   "codemirror_mode": {
    "name": "ipython",
    "version": 3
   },
   "file_extension": ".py",
   "mimetype": "text/x-python",
   "name": "python",
   "nbconvert_exporter": "python",
   "pygments_lexer": "ipython3",
   "version": "3.11.7"
  },
  "orig_nbformat": 4,
  "vscode": {
   "interpreter": {
    "hash": "40d3a090f54c6569ab1632332b64b2c03c39dcf918b08424e98f38b5ae0af88f"
   }
  }
 },
 "nbformat": 4,
 "nbformat_minor": 2
}
